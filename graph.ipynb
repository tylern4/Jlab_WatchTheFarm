{
 "cells": [
  {
   "cell_type": "code",
   "execution_count": 1,
   "metadata": {
    "collapsed": false
   },
   "outputs": [],
   "source": [
    "from getwebpage import *\n",
    "import pandas as pd\n",
    "import dryscrape\n",
    "from bs4 import BeautifulSoup\n",
    "from datetime import datetime\n",
    "from time import *\n",
    "from IPython import display\n",
    "%matplotlib inline\n",
    "%config InlineBackend.figure_format = 'retina'\n",
    "import numpy as np\n",
    "import matplotlib.pyplot as plt\n",
    "import matplotlib.cm as cm"
   ]
  },
  {
   "cell_type": "code",
   "execution_count": 2,
   "metadata": {
    "collapsed": false
   },
   "outputs": [
    {
     "data": {
      "text/html": [
       "<div>\n",
       "<table border=\"1\" class=\"dataframe\">\n",
       "  <thead>\n",
       "    <tr style=\"text-align: right;\">\n",
       "      <th></th>\n",
       "      <th></th>\n",
       "      <th>active</th>\n",
       "      <th>dependency</th>\n",
       "      <th>pending</th>\n",
       "      <th>staging_in</th>\n",
       "      <th>staging_out</th>\n",
       "      <th>time</th>\n",
       "    </tr>\n",
       "  </thead>\n",
       "  <tbody>\n",
       "    <tr>\n",
       "      <th>0</th>\n",
       "      <td>2200</td>\n",
       "      <td>0</td>\n",
       "      <td>0</td>\n",
       "      <td>2200</td>\n",
       "      <td>0</td>\n",
       "      <td>0</td>\n",
       "      <td>2016-02-08 15:23:39.212588</td>\n",
       "    </tr>\n",
       "  </tbody>\n",
       "</table>\n",
       "</div>"
      ],
      "text/plain": [
       "         active  dependency  pending  staging_in  staging_out  \\\n",
       "0  2200       0           0     2200           0            0   \n",
       "\n",
       "                        time  \n",
       "0 2016-02-08 15:23:39.212588  "
      ]
     },
     "execution_count": 2,
     "metadata": {},
     "output_type": "execute_result"
    }
   ],
   "source": [
    "username = 'adeyemi'\n",
    "url = 'http://scicomp.jlab.org/scicomp/#/auger/jobs'\n",
    "wait = '1'\n",
    "\n",
    "get_counts(username,getwebpage(url))"
   ]
  },
  {
   "cell_type": "code",
   "execution_count": null,
   "metadata": {
    "collapsed": false
   },
   "outputs": [],
   "source": [
    "data = []\n",
    "#for i in xrange(3):\n",
    "while True:\n",
    "    fig = plt.figure(num=None, figsize=(10, 8), dpi=200, facecolor='w', edgecolor='k')\n",
    "    stuff = get_counts(username,getwebpage(url))\n",
    "    data.append(stuff)\n",
    "    df = pd.concat(data, ignore_index=True).set_index('time')\n",
    "    \n",
    "    uniq_col = list(df.columns.values)\n",
    "    values = cm.viridis(np.linspace(0,1,len(uniq_col)))\n",
    "    col = dict(zip(uniq_col, values))\n",
    "    \n",
    "    time = np.hstack(np.array(df.index))\n",
    "    total = np.hstack(np.array(df['']))\n",
    "    active = np.hstack(np.array(df.active))\n",
    "    dependency = np.hstack(np.array(df.dependency))\n",
    "    pending = np.hstack(np.array(df.pending))\n",
    "    staging_in = np.hstack(np.array(df.staging_in))\n",
    "    staging_out = np.hstack(np.array(df.staging_out))\n",
    "    if username == '':\n",
    "        over_rlimit = np.hstack(np.array(df.over_rlimit))\n",
    "        success = np.hstack(np.array(df.success))\n",
    "        timeout = np.hstack(np.array(df.timeout))\n",
    "        canceled = np.hstack(np.array(df.cancelled))\n",
    "    \n",
    "    plt.plot(time,total, '-o', alpha=1, color=col[''],label='total')\n",
    "    plt.plot(time,active, '-o',alpha=1, color=col['active'],label='active')\n",
    "    plt.plot(time,dependency, '-o',alpha=1, color=col['dependency'],label='dependency')\n",
    "    plt.plot(time,pending, '-o',alpha=1, color=col['pending'],label='pending')\n",
    "    #plt.plot(time,staging_in, '-o',alpha=1, color=col['staging_in'])\n",
    "    #plt.plot(time,staging_out, '-o',alpha=1, color=col['staging_out'])\n",
    "    plt.xlabel('Date')\n",
    "    plt.ylabel('Number')\n",
    "    plt.title('Farm Jobs')\n",
    "    plt.legend(loc=4)\n",
    "    plt.show()\n",
    "    sleep(float(wait))\n",
    "    display.clear_output(wait=True)"
   ]
  },
  {
   "cell_type": "code",
   "execution_count": null,
   "metadata": {
    "collapsed": false
   },
   "outputs": [],
   "source": [
    "data = []\n",
    "#for i in xrange(3):\n",
    "while True:\n",
    "    fig = plt.figure(num=None, figsize=(10, 8), dpi=200, facecolor='w', edgecolor='k')\n",
    "    stuff = get_counts(username,getwebpage(url))\n",
    "    data.append(stuff)\n",
    "    df = pd.concat(data, ignore_index=True).set_index('time')\n",
    "    \n",
    "    uniq_col = list(df.columns.values)\n",
    "    values = cm.viridis(np.linspace(0,1,len(uniq_col)))\n",
    "    col = dict(zip(uniq_col, values))\n",
    "    \n",
    "    time = np.hstack(np.array(df.index))\n",
    "    total = np.hstack(np.array(df['']))\n",
    "    active = np.hstack(np.array(df.active))\n",
    "    dependency = np.hstack(np.array(df.dependency))\n",
    "    pending = np.hstack(np.array(df.pending))\n",
    "    staging_in = np.hstack(np.array(df.staging_in))\n",
    "    staging_out = np.hstack(np.array(df.staging_out))\n",
    "    if username == '':\n",
    "        over_rlimit = np.hstack(np.array(df.over_rlimit))\n",
    "        success = np.hstack(np.array(df.success))\n",
    "        timeout = np.hstack(np.array(df.timeout))\n",
    "        canceled = np.hstack(np.array(df.cancelled))\n",
    "    \n",
    "    #plt.plot(time,total, '-o', alpha=1, color=col[''],label='total')\n",
    "    plt.plot(time,active/total, '-o',alpha=1, color=col['active'],label='active')\n",
    "    plt.plot(time,dependency/total, '-o',alpha=1, color=col['dependency'],label='dependency')\n",
    "    plt.plot(time,pending/total, '-o',alpha=1, color=col['pending'],label='pending')\n",
    "    plt.xlabel('Date')\n",
    "    plt.ylabel('Percent')\n",
    "    plt.title('Farm Jobs')\n",
    "    plt.legend(loc=4)\n",
    "    plt.show()\n",
    "    sleep(float(wait))\n",
    "    display.clear_output(wait=True)"
   ]
  },
  {
   "cell_type": "code",
   "execution_count": null,
   "metadata": {
    "collapsed": true
   },
   "outputs": [],
   "source": []
  }
 ],
 "metadata": {
  "kernelspec": {
   "display_name": "Python 2",
   "language": "python",
   "name": "python2"
  },
  "language_info": {
   "codemirror_mode": {
    "name": "ipython",
    "version": 2
   },
   "file_extension": ".py",
   "mimetype": "text/x-python",
   "name": "python",
   "nbconvert_exporter": "python",
   "pygments_lexer": "ipython2",
   "version": "2.7.11"
  }
 },
 "nbformat": 4,
 "nbformat_minor": 0
}
